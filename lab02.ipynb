{
 "cells": [
  {
   "cell_type": "markdown",
   "metadata": {},
   "source": [
    "# Lab 02 - Computational Intelligence\n"
   ]
  },
  {
   "cell_type": "code",
   "execution_count": 9,
   "metadata": {},
   "outputs": [],
   "source": [
    "import functools\n",
    "import random\n",
    "import pandas as pd\n",
    "import matplotlib.pyplot as plt\n",
    "import numpy as np\n",
    "from geopy.distance import geodesic\n",
    "from tqdm.auto import tqdm"
   ]
  },
  {
   "cell_type": "markdown",
   "metadata": {},
   "source": [
    "## Initialization"
   ]
  },
  {
   "cell_type": "code",
   "execution_count": 11,
   "metadata": {},
   "outputs": [],
   "source": [
    "class Individual:\n",
    "    def __init__(self, genome=None, fitness_score=None):\n",
    "        self.genome = genome\n",
    "        self.fitness = fitness_score\n",
    "\n",
    "    def __repr__(self):\n",
    "        return f\"Fitness: {self.fitness}, {self.genome}\"\n",
    "\n",
    "\n",
    "# Function to read coordinates from a CSV file\n",
    "def read_coor_csv(file_path):\n",
    "    dtype_dict = {'city': 'string', 'lat': 'float64', 'lon': 'float64'}\n",
    "    df = pd.read_csv(file_path, header=None, names=['city', 'lat', 'lon'], dtype=dtype_dict, low_memory=False)\n",
    "    coords = df[['lat', 'lon']].values\n",
    "    return coords\n",
    "\n",
    "\n",
    "# Function to compute the distance matrix in kilometers\n",
    "def dist_matrix(coords):\n",
    "    dmat = np.zeros((len(coords), len(coords)), dtype=np.float64)\n",
    "    for i, (x1, y1) in enumerate(coords):\n",
    "        for j, (x2, y2) in enumerate(coords):\n",
    "            dmat[i][j] = geodesic((x1, y1), (x2, y2)).km\n",
    "    return dmat"
   ]
  },
  {
   "cell_type": "markdown",
   "metadata": {},
   "source": [
    "## Helper Functions"
   ]
  },
  {
   "cell_type": "code",
   "execution_count": 12,
   "metadata": {},
   "outputs": [],
   "source": [
    "def counter(fn):\n",
    "    \"\"\"Simple decorator for counting number of calls\"\"\"\n",
    "\n",
    "    @functools.wraps(fn)\n",
    "    def helper(*args, **kargs):\n",
    "        helper.calls += 1\n",
    "        return fn(*args, **kargs)\n",
    "\n",
    "    helper.calls = 0\n",
    "    return helper\n",
    "\n",
    "\n",
    "@counter\n",
    "def cost(dmat, path):\n",
    "    \"\"\"Calculate total distance of the TSP path\"\"\"\n",
    "    total_distance = 0\n",
    "    for i in range(len(path) - 1):\n",
    "        u, v = path[i], path[i + 1]\n",
    "        total_distance += dmat[u][v]\n",
    "\n",
    "    # Add starting point to close the loop\n",
    "    u, v = path[-1], path[0]\n",
    "    total_distance += dmat[u][v]\n",
    "\n",
    "    return total_distance\n",
    "\n",
    "\n",
    "def fitness(dmat, individual):\n",
    "    return cost(dmat, individual.genome)"
   ]
  },
  {
   "cell_type": "markdown",
   "metadata": {},
   "source": [
    "## Operators"
   ]
  },
  {
   "cell_type": "code",
   "execution_count": 13,
   "metadata": {},
   "outputs": [],
   "source": [
    "def random_genome(length):\n",
    "    genome = np.arange(length)\n",
    "    np.random.shuffle(genome)\n",
    "    return genome\n",
    "\n",
    "def parent_selection(population, n=2):\n",
    "    \"\"\"Implement tournament selection\"\"\"\n",
    "    selected_individuals = random.sample(population, n)\n",
    "    return min(selected_individuals, key=lambda individual: individual.fitness)\n",
    "\n",
    "def mutation_swap(p1):\n",
    "    \"\"\"Swap two cities\"\"\"\n",
    "    new_genome = p1.genome.copy()\n",
    "    idx1, idx2 = np.random.randint(0, len(new_genome), 2)\n",
    "    new_genome[idx1], new_genome[idx2] = new_genome[idx2], new_genome[idx1]\n",
    "    return Individual(new_genome)\n",
    "\n",
    "def xover_order(p1, p2):\n",
    "    \"\"\"Order crossover\"\"\"\n",
    "    length = len(p1.genome)\n",
    "\n",
    "    # Choose cut-off points\n",
    "    idx1, idx2 = np.sort(np.random.randint(0, length, 2))\n",
    "\n",
    "    # Create offspring by copying the p1 genome between the cuts\n",
    "    offspring = np.full((length,), -1)\n",
    "    offspring[idx1:idx2] = p1.genome[idx1:idx2]\n",
    "\n",
    "    # Fill the rest with p2 without repeating\n",
    "    current_position = idx2 % length\n",
    "    for gene in p2.genome:\n",
    "        if gene not in offspring:\n",
    "            offspring[current_position] = gene\n",
    "            current_position = (current_position + 1) % length\n",
    "\n",
    "    return Individual(offspring)\n",
    "\n",
    "def mutation_inv(p1):\n",
    "    \"\"\"Reverse the order between cut-off points\"\"\"\n",
    "    new_genome = p1.genome.copy()\n",
    "    idx1, idx2 = np.sort(np.random.randint(0, len(new_genome), 2))\n",
    "\n",
    "    new_genome = np.concatenate((new_genome[:idx1], new_genome[idx1:idx2 + 1][::-1], new_genome[idx2 + 1:]))\n",
    "    return Individual(new_genome)\n",
    "\n",
    "\n",
    "def mutation_multi(p1, prob_multi=0.5, prob_inv=0.5):\n",
    "    \"\"\"Apply the mutations multiple times\"\"\"\n",
    "    new_ind = mutation_inv(p1) if np.random.random() < prob_inv else mutation_swap(p1)\n",
    "    while np.random.random() < prob_multi:\n",
    "        new_ind = mutation_inv(p1) if np.random.random() < prob_inv else mutation_swap(p1)\n",
    "    return new_ind\n",
    "\n"
   ]
  },
  {
   "cell_type": "markdown",
   "metadata": {},
   "source": [
    "## Resolution"
   ]
  },
  {
   "cell_type": "code",
   "execution_count": null,
   "metadata": {},
   "outputs": [
    {
     "name": "stderr",
     "output_type": "stream",
     "text": [
      "  4%|▍         | 87/2000 [00:16<06:04,  5.25it/s]"
     ]
    }
   ],
   "source": [
    "# Parameters\n",
    "pop_size = 100\n",
    "n_max_gen = 2000\n",
    "offspring_size = pop_size * 3\n",
    "p_mutation = 0.5\n",
    "p_multi_mutation = 0.5\n",
    "p_inv_mutation = 0.5\n",
    "elitism = 1\n",
    "plot_results = True\n",
    "\n",
    "#Initializations\n",
    "csv_file = 'cities/china.csv'\n",
    "coords = read_coor_csv(csv_file)\n",
    "dmat = dist_matrix(coords)\n",
    "\n",
    "# Initial population\n",
    "population = [Individual(random_genome(len(coords))) for _ in range(pop_size)]\n",
    "for p in population:\n",
    "    p.fitness = fitness(dmat, p)\n",
    "\n",
    "bests = []\n",
    "\n",
    "population.sort(key=lambda ind: ind.fitness)\n",
    "bests.append(population[0])\n",
    "\n",
    "for _ in tqdm(range(n_max_gen)):\n",
    "    # Offspring generation\n",
    "    offspring = []\n",
    "    for _ in range(offspring_size):\n",
    "        #randomly choose between multi mutation and crossover\n",
    "        if np.random.random() < p_mutation:\n",
    "            p = parent_selection(population)\n",
    "            o = mutation_multi(p, p_multi_mutation, p_inv_mutation)\n",
    "        else:\n",
    "            p1 = parent_selection(population)\n",
    "            p2 = parent_selection(population)\n",
    "            o = xover_order(p1, p2)\n",
    "        offspring.append(o)\n",
    "    # Evaluate offspring\n",
    "    for i in offspring:\n",
    "        i.fitness = fitness(dmat, i)\n",
    "    #pick the best individual from the population and add it to the offspring\n",
    "    offspring.extend(population[:elitism])\n",
    "\n",
    "    # Survivor selection\n",
    "    population = offspring\n",
    "    population.sort(key=lambda ind: ind.fitness)\n",
    "    population = population[:pop_size]\n",
    "    bests.append(population[0])\n",
    "\n",
    "# Results\n",
    "total_distance = cost(dmat, bests[-1].genome)\n",
    "print(f\"TSP Path: {bests[-1].genome}\")\n",
    "print(f\"Total Distance Travelled: {total_distance}\")\n",
    "print(f\"Cost calls: {cost.calls}\")\n",
    "\n"
   ]
  },
  {
   "cell_type": "code",
   "execution_count": 7,
   "metadata": {},
   "outputs": [
    {
     "data": {
      "image/png": "[encoded data removed]",
      "text/plain": [
       "<Figure size 640x480 with 1 Axes>"
      ]
     },
     "metadata": {},
     "output_type": "display_data"
    }
   ],
   "source": [
    "if plot_results:\n",
    "    # Plot fitness\n",
    "    plt.plot(np.array([i.fitness for i in bests]))\n",
    "    # add a title\n",
    "    plt.title('Distance travelled over generations')\n",
    "    # add a label to the x-axis\n",
    "    plt.xlabel('Generations')\n",
    "    # add a label to the y-axis\n",
    "    plt.ylabel('Distance')\n",
    "    plt.show()"
   ]
  }
 ],
 "metadata": {
  "kernelspec": {
   "display_name": "venv",
   "language": "python",
   "name": "python3"
  },
  "language_info": {
   "codemirror_mode": {
    "name": "ipython",
    "version": 3
   },
   "file_extension": ".py",
   "mimetype": "text/x-python",
   "name": "python",
   "nbconvert_exporter": "python",
   "pygments_lexer": "ipython3",
   "version": "3.10.15"
  }
 },
 "nbformat": 4,
 "nbformat_minor": 2
}
